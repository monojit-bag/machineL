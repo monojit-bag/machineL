{
 "cells": [
  {
   "cell_type": "code",
   "execution_count": 1,
   "id": "40871ca7",
   "metadata": {},
   "outputs": [
    {
     "name": "stdout",
     "output_type": "stream",
     "text": [
      "Requirement already satisfied: PySimpleGUI in c:\\users\\hp\\anaconda3\\lib\\site-packages (4.55.1)\n",
      "Note: you may need to restart the kernel to use updated packages.\n"
     ]
    }
   ],
   "source": [
    "pip install PySimpleGUI"
   ]
  },
  {
   "cell_type": "code",
   "execution_count": 2,
   "id": "0e1527c4",
   "metadata": {},
   "outputs": [],
   "source": [
    "import PySimpleGUI as sg"
   ]
  },
  {
   "cell_type": "code",
   "execution_count": 3,
   "id": "be3235a9",
   "metadata": {},
   "outputs": [],
   "source": [
    "layout = [[sg.Text('BA Trail App')],\n",
    "                    [sg.InputText()],\n",
    "                    [sg.Submit(),sg.Cancel()]]"
   ]
  },
  {
   "cell_type": "code",
   "execution_count": 4,
   "id": "2444f723",
   "metadata": {},
   "outputs": [],
   "source": [
    "window= sg.Window('First Window', layout)"
   ]
  },
  {
   "cell_type": "code",
   "execution_count": 5,
   "id": "f9972555",
   "metadata": {},
   "outputs": [],
   "source": [
    "event, values= window.read()"
   ]
  },
  {
   "cell_type": "code",
   "execution_count": 7,
   "id": "3cce181c",
   "metadata": {},
   "outputs": [],
   "source": [
    "window.close()"
   ]
  },
  {
   "cell_type": "code",
   "execution_count": 8,
   "id": "6f2efd9a",
   "metadata": {},
   "outputs": [],
   "source": [
    "text_input = values[0]"
   ]
  },
  {
   "cell_type": "code",
   "execution_count": 9,
   "id": "61ab2748",
   "metadata": {},
   "outputs": [
    {
     "data": {
      "text/plain": [
       "'OK'"
      ]
     },
     "execution_count": 9,
     "metadata": {},
     "output_type": "execute_result"
    }
   ],
   "source": [
    "sg.popup('You enterd', text_input)"
   ]
  },
  {
   "cell_type": "code",
   "execution_count": null,
   "id": "76272a8a",
   "metadata": {},
   "outputs": [],
   "source": []
  }
 ],
 "metadata": {
  "kernelspec": {
   "display_name": "Python 3",
   "language": "python",
   "name": "python3"
  },
  "language_info": {
   "codemirror_mode": {
    "name": "ipython",
    "version": 3
   },
   "file_extension": ".py",
   "mimetype": "text/x-python",
   "name": "python",
   "nbconvert_exporter": "python",
   "pygments_lexer": "ipython3",
   "version": "3.8.8"
  }
 },
 "nbformat": 4,
 "nbformat_minor": 5
}
