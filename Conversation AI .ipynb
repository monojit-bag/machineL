{
 "cells": [
  {
   "cell_type": "code",
   "execution_count": 1,
   "id": "5d417d47",
   "metadata": {},
   "outputs": [
    {
     "name": "stdout",
     "output_type": "stream",
     "text": [
      "Requirement already satisfied: pyWin32 in c:\\users\\hp\\anaconda3\\lib\\site-packages (227)\n",
      "Note: you may need to restart the kernel to use updated packages.\n"
     ]
    }
   ],
   "source": [
    "pip install pyWin32"
   ]
  },
  {
   "cell_type": "code",
   "execution_count": null,
   "id": "e7e5aa23",
   "metadata": {},
   "outputs": [
    {
     "name": "stdout",
     "output_type": "stream",
     "text": [
      "hii! How are you today?lk\n",
      "Please say something\n",
      "lk\n",
      "Why don't say something I understand!\n",
      "Please say something\n",
      "fuck you\n",
      "Why don't say something I understand!\n",
      "Please say something\n",
      "i want to fuck you\n",
      "Why don't say something I understand!\n"
     ]
    }
   ],
   "source": [
    "import win32com.client as wincom\n",
    "speak=wincom.Dispatch(\"SAPI.SpVoice\")\n",
    "\n",
    "user_input = input(\"hii! How are you today?\")\n",
    "speak.Speak(\"Hi! How are you today\")\n",
    "\n",
    "while True:\n",
    "\n",
    "    user_input = input(\"Please say something\\n\")\n",
    "    user_input = user_input.lower()\n",
    "    if user_input in [\"hi\",\"hii\",\"hello\",\"hey\"]:\n",
    "            print(\"Hello! Nice to meet you\")\n",
    "            speak.Speak(\"Hello! Nice to meet you\")          \n",
    "            \n",
    "    elif user_input in [\"bye\",\"close\",\"quit\",\"end\"]:\n",
    "        print(\"Okay bye byeeeee\")\n",
    "        speak.Speak(\"Okay bye byeeeee\")\n",
    "                      \n",
    "        break\n",
    "    else:\n",
    "        print(\"Why don't say something I understand!\")\n",
    "        speak.Speak(\"Why don't say something I understand!\")"
   ]
  },
  {
   "cell_type": "code",
   "execution_count": null,
   "id": "ec2bb87e",
   "metadata": {},
   "outputs": [],
   "source": []
  },
  {
   "cell_type": "code",
   "execution_count": null,
   "id": "59345242",
   "metadata": {},
   "outputs": [],
   "source": []
  }
 ],
 "metadata": {
  "kernelspec": {
   "display_name": "Python 3",
   "language": "python",
   "name": "python3"
  },
  "language_info": {
   "codemirror_mode": {
    "name": "ipython",
    "version": 3
   },
   "file_extension": ".py",
   "mimetype": "text/x-python",
   "name": "python",
   "nbconvert_exporter": "python",
   "pygments_lexer": "ipython3",
   "version": "3.8.8"
  }
 },
 "nbformat": 4,
 "nbformat_minor": 5
}
