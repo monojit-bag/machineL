{
 "cells": [
  {
   "cell_type": "code",
   "execution_count": 1,
   "id": "c5fba18b",
   "metadata": {},
   "outputs": [],
   "source": [
    "import pandas as pd "
   ]
  },
  {
   "cell_type": "code",
   "execution_count": 5,
   "id": "3b1952f3",
   "metadata": {},
   "outputs": [],
   "source": [
    "movies= pd.read_csv(\"https://github.com/SavioSal/datasets/raw/master/movie_clean.csv\", encoding='unicode_escape')"
   ]
  },
  {
   "cell_type": "code",
   "execution_count": 6,
   "id": "3239dba8",
   "metadata": {},
   "outputs": [
    {
     "data": {
      "text/html": [
       "<div>\n",
       "<style scoped>\n",
       "    .dataframe tbody tr th:only-of-type {\n",
       "        vertical-align: middle;\n",
       "    }\n",
       "\n",
       "    .dataframe tbody tr th {\n",
       "        vertical-align: top;\n",
       "    }\n",
       "\n",
       "    .dataframe thead th {\n",
       "        text-align: right;\n",
       "    }\n",
       "</style>\n",
       "<table border=\"1\" class=\"dataframe\">\n",
       "  <thead>\n",
       "    <tr style=\"text-align: right;\">\n",
       "      <th></th>\n",
       "      <th>title</th>\n",
       "      <th>genres</th>\n",
       "      <th>runtime</th>\n",
       "      <th>vote_average</th>\n",
       "      <th>vote_count</th>\n",
       "      <th>year</th>\n",
       "      <th>overview</th>\n",
       "    </tr>\n",
       "  </thead>\n",
       "  <tbody>\n",
       "    <tr>\n",
       "      <th>0</th>\n",
       "      <td>Toy Story</td>\n",
       "      <td>['animation', 'comedy', 'family']</td>\n",
       "      <td>81.0</td>\n",
       "      <td>7.7</td>\n",
       "      <td>5415.0</td>\n",
       "      <td>1995.0</td>\n",
       "      <td>Led by Woody, Andy's toys live happily in his ...</td>\n",
       "    </tr>\n",
       "    <tr>\n",
       "      <th>1</th>\n",
       "      <td>Jumanji</td>\n",
       "      <td>['adventure', 'fantasy', 'family']</td>\n",
       "      <td>104.0</td>\n",
       "      <td>6.9</td>\n",
       "      <td>2413.0</td>\n",
       "      <td>1995.0</td>\n",
       "      <td>When siblings Judy and Peter discover an encha...</td>\n",
       "    </tr>\n",
       "    <tr>\n",
       "      <th>2</th>\n",
       "      <td>Grumpier Old Men</td>\n",
       "      <td>['romance', 'comedy']</td>\n",
       "      <td>101.0</td>\n",
       "      <td>6.5</td>\n",
       "      <td>92.0</td>\n",
       "      <td>1995.0</td>\n",
       "      <td>A family wedding reignites the ancient feud be...</td>\n",
       "    </tr>\n",
       "    <tr>\n",
       "      <th>3</th>\n",
       "      <td>Waiting to Exhale</td>\n",
       "      <td>['comedy', 'drama', 'romance']</td>\n",
       "      <td>127.0</td>\n",
       "      <td>6.1</td>\n",
       "      <td>34.0</td>\n",
       "      <td>1995.0</td>\n",
       "      <td>Cheated on, mistreated and stepped on, the wom...</td>\n",
       "    </tr>\n",
       "    <tr>\n",
       "      <th>4</th>\n",
       "      <td>Father of the Bride Part II</td>\n",
       "      <td>['comedy']</td>\n",
       "      <td>106.0</td>\n",
       "      <td>5.7</td>\n",
       "      <td>173.0</td>\n",
       "      <td>1995.0</td>\n",
       "      <td>Just when George Banks has recovered from his ...</td>\n",
       "    </tr>\n",
       "  </tbody>\n",
       "</table>\n",
       "</div>"
      ],
      "text/plain": [
       "                         title                              genres  runtime  \\\n",
       "0                    Toy Story   ['animation', 'comedy', 'family']     81.0   \n",
       "1                      Jumanji  ['adventure', 'fantasy', 'family']    104.0   \n",
       "2             Grumpier Old Men               ['romance', 'comedy']    101.0   \n",
       "3            Waiting to Exhale      ['comedy', 'drama', 'romance']    127.0   \n",
       "4  Father of the Bride Part II                          ['comedy']    106.0   \n",
       "\n",
       "   vote_average  vote_count    year  \\\n",
       "0           7.7      5415.0  1995.0   \n",
       "1           6.9      2413.0  1995.0   \n",
       "2           6.5        92.0  1995.0   \n",
       "3           6.1        34.0  1995.0   \n",
       "4           5.7       173.0  1995.0   \n",
       "\n",
       "                                            overview  \n",
       "0  Led by Woody, Andy's toys live happily in his ...  \n",
       "1  When siblings Judy and Peter discover an encha...  \n",
       "2  A family wedding reignites the ancient feud be...  \n",
       "3  Cheated on, mistreated and stepped on, the wom...  \n",
       "4  Just when George Banks has recovered from his ...  "
      ]
     },
     "execution_count": 6,
     "metadata": {},
     "output_type": "execute_result"
    }
   ],
   "source": [
    "movies.head()"
   ]
  },
  {
   "cell_type": "code",
   "execution_count": 3,
   "id": "db74123d",
   "metadata": {},
   "outputs": [],
   "source": [
    "from sklearn.feature_extraction.text import TfidfVectorizer"
   ]
  },
  {
   "cell_type": "code",
   "execution_count": 4,
   "id": "14615bcb",
   "metadata": {},
   "outputs": [],
   "source": [
    "tfidf = TfidfVectorizer(stop_words = 'english')"
   ]
  },
  {
   "cell_type": "code",
   "execution_count": 7,
   "id": "baeaac67",
   "metadata": {},
   "outputs": [
    {
     "data": {
      "text/plain": [
       "0         True\n",
       "1        False\n",
       "2        False\n",
       "3        False\n",
       "4        False\n",
       "         ...  \n",
       "45567    False\n",
       "45568    False\n",
       "45569    False\n",
       "45570    False\n",
       "45571    False\n",
       "Name: vote_average, Length: 45572, dtype: bool"
      ]
     },
     "execution_count": 7,
     "metadata": {},
     "output_type": "execute_result"
    }
   ],
   "source": [
    "movies['vote_average'] > 7"
   ]
  },
  {
   "cell_type": "code",
   "execution_count": 8,
   "id": "fa55cfb1",
   "metadata": {},
   "outputs": [],
   "source": [
    "movies_new=movies[movies['vote_average'] > 7]"
   ]
  },
  {
   "cell_type": "code",
   "execution_count": 11,
   "id": "24448756",
   "metadata": {},
   "outputs": [
    {
     "data": {
      "text/html": [
       "<div>\n",
       "<style scoped>\n",
       "    .dataframe tbody tr th:only-of-type {\n",
       "        vertical-align: middle;\n",
       "    }\n",
       "\n",
       "    .dataframe tbody tr th {\n",
       "        vertical-align: top;\n",
       "    }\n",
       "\n",
       "    .dataframe thead th {\n",
       "        text-align: right;\n",
       "    }\n",
       "</style>\n",
       "<table border=\"1\" class=\"dataframe\">\n",
       "  <thead>\n",
       "    <tr style=\"text-align: right;\">\n",
       "      <th></th>\n",
       "      <th>title</th>\n",
       "      <th>genres</th>\n",
       "      <th>runtime</th>\n",
       "      <th>vote_average</th>\n",
       "      <th>vote_count</th>\n",
       "      <th>year</th>\n",
       "      <th>overview</th>\n",
       "    </tr>\n",
       "  </thead>\n",
       "  <tbody>\n",
       "    <tr>\n",
       "      <th>0</th>\n",
       "      <td>Toy Story</td>\n",
       "      <td>['animation', 'comedy', 'family']</td>\n",
       "      <td>81.0</td>\n",
       "      <td>7.7</td>\n",
       "      <td>5415.0</td>\n",
       "      <td>1995.0</td>\n",
       "      <td>Led by Woody, Andy's toys live happily in his ...</td>\n",
       "    </tr>\n",
       "    <tr>\n",
       "      <th>5</th>\n",
       "      <td>Heat</td>\n",
       "      <td>['action', 'crime', 'drama', 'thriller']</td>\n",
       "      <td>170.0</td>\n",
       "      <td>7.7</td>\n",
       "      <td>1886.0</td>\n",
       "      <td>1995.0</td>\n",
       "      <td>Obsessive master thief, Neil McCauley leads a ...</td>\n",
       "    </tr>\n",
       "    <tr>\n",
       "      <th>12</th>\n",
       "      <td>Balto</td>\n",
       "      <td>['family', 'animation', 'adventure']</td>\n",
       "      <td>78.0</td>\n",
       "      <td>7.1</td>\n",
       "      <td>423.0</td>\n",
       "      <td>1995.0</td>\n",
       "      <td>An outcast half-wolf risks his life to prevent...</td>\n",
       "    </tr>\n",
       "    <tr>\n",
       "      <th>13</th>\n",
       "      <td>Nixon</td>\n",
       "      <td>['history', 'drama']</td>\n",
       "      <td>192.0</td>\n",
       "      <td>7.1</td>\n",
       "      <td>72.0</td>\n",
       "      <td>1995.0</td>\n",
       "      <td>An all-star cast powers this epic look at Amer...</td>\n",
       "    </tr>\n",
       "    <tr>\n",
       "      <th>15</th>\n",
       "      <td>Casino</td>\n",
       "      <td>['drama', 'crime']</td>\n",
       "      <td>178.0</td>\n",
       "      <td>7.8</td>\n",
       "      <td>1343.0</td>\n",
       "      <td>1995.0</td>\n",
       "      <td>The life of the gambling paradise â Las Vega...</td>\n",
       "    </tr>\n",
       "  </tbody>\n",
       "</table>\n",
       "</div>"
      ],
      "text/plain": [
       "        title                                    genres  runtime  \\\n",
       "0   Toy Story         ['animation', 'comedy', 'family']     81.0   \n",
       "5        Heat  ['action', 'crime', 'drama', 'thriller']    170.0   \n",
       "12      Balto      ['family', 'animation', 'adventure']     78.0   \n",
       "13      Nixon                      ['history', 'drama']    192.0   \n",
       "15     Casino                        ['drama', 'crime']    178.0   \n",
       "\n",
       "    vote_average  vote_count    year  \\\n",
       "0            7.7      5415.0  1995.0   \n",
       "5            7.7      1886.0  1995.0   \n",
       "12           7.1       423.0  1995.0   \n",
       "13           7.1        72.0  1995.0   \n",
       "15           7.8      1343.0  1995.0   \n",
       "\n",
       "                                             overview  \n",
       "0   Led by Woody, Andy's toys live happily in his ...  \n",
       "5   Obsessive master thief, Neil McCauley leads a ...  \n",
       "12  An outcast half-wolf risks his life to prevent...  \n",
       "13  An all-star cast powers this epic look at Amer...  \n",
       "15  The life of the gambling paradise â Las Vega...  "
      ]
     },
     "execution_count": 11,
     "metadata": {},
     "output_type": "execute_result"
    }
   ],
   "source": [
    "movies_new.head()"
   ]
  },
  {
   "cell_type": "code",
   "execution_count": 12,
   "id": "d177370c",
   "metadata": {},
   "outputs": [],
   "source": [
    "movies_new = movies_new.reset_index()"
   ]
  },
  {
   "cell_type": "code",
   "execution_count": 13,
   "id": "e9772b65",
   "metadata": {},
   "outputs": [
    {
     "data": {
      "text/html": [
       "<div>\n",
       "<style scoped>\n",
       "    .dataframe tbody tr th:only-of-type {\n",
       "        vertical-align: middle;\n",
       "    }\n",
       "\n",
       "    .dataframe tbody tr th {\n",
       "        vertical-align: top;\n",
       "    }\n",
       "\n",
       "    .dataframe thead th {\n",
       "        text-align: right;\n",
       "    }\n",
       "</style>\n",
       "<table border=\"1\" class=\"dataframe\">\n",
       "  <thead>\n",
       "    <tr style=\"text-align: right;\">\n",
       "      <th></th>\n",
       "      <th>index</th>\n",
       "      <th>title</th>\n",
       "      <th>genres</th>\n",
       "      <th>runtime</th>\n",
       "      <th>vote_average</th>\n",
       "      <th>vote_count</th>\n",
       "      <th>year</th>\n",
       "      <th>overview</th>\n",
       "    </tr>\n",
       "  </thead>\n",
       "  <tbody>\n",
       "    <tr>\n",
       "      <th>0</th>\n",
       "      <td>0</td>\n",
       "      <td>Toy Story</td>\n",
       "      <td>['animation', 'comedy', 'family']</td>\n",
       "      <td>81.0</td>\n",
       "      <td>7.7</td>\n",
       "      <td>5415.0</td>\n",
       "      <td>1995.0</td>\n",
       "      <td>Led by Woody, Andy's toys live happily in his ...</td>\n",
       "    </tr>\n",
       "    <tr>\n",
       "      <th>1</th>\n",
       "      <td>5</td>\n",
       "      <td>Heat</td>\n",
       "      <td>['action', 'crime', 'drama', 'thriller']</td>\n",
       "      <td>170.0</td>\n",
       "      <td>7.7</td>\n",
       "      <td>1886.0</td>\n",
       "      <td>1995.0</td>\n",
       "      <td>Obsessive master thief, Neil McCauley leads a ...</td>\n",
       "    </tr>\n",
       "    <tr>\n",
       "      <th>2</th>\n",
       "      <td>12</td>\n",
       "      <td>Balto</td>\n",
       "      <td>['family', 'animation', 'adventure']</td>\n",
       "      <td>78.0</td>\n",
       "      <td>7.1</td>\n",
       "      <td>423.0</td>\n",
       "      <td>1995.0</td>\n",
       "      <td>An outcast half-wolf risks his life to prevent...</td>\n",
       "    </tr>\n",
       "    <tr>\n",
       "      <th>3</th>\n",
       "      <td>13</td>\n",
       "      <td>Nixon</td>\n",
       "      <td>['history', 'drama']</td>\n",
       "      <td>192.0</td>\n",
       "      <td>7.1</td>\n",
       "      <td>72.0</td>\n",
       "      <td>1995.0</td>\n",
       "      <td>An all-star cast powers this epic look at Amer...</td>\n",
       "    </tr>\n",
       "    <tr>\n",
       "      <th>4</th>\n",
       "      <td>15</td>\n",
       "      <td>Casino</td>\n",
       "      <td>['drama', 'crime']</td>\n",
       "      <td>178.0</td>\n",
       "      <td>7.8</td>\n",
       "      <td>1343.0</td>\n",
       "      <td>1995.0</td>\n",
       "      <td>The life of the gambling paradise â Las Vega...</td>\n",
       "    </tr>\n",
       "  </tbody>\n",
       "</table>\n",
       "</div>"
      ],
      "text/plain": [
       "   index      title                                    genres  runtime  \\\n",
       "0      0  Toy Story         ['animation', 'comedy', 'family']     81.0   \n",
       "1      5       Heat  ['action', 'crime', 'drama', 'thriller']    170.0   \n",
       "2     12      Balto      ['family', 'animation', 'adventure']     78.0   \n",
       "3     13      Nixon                      ['history', 'drama']    192.0   \n",
       "4     15     Casino                        ['drama', 'crime']    178.0   \n",
       "\n",
       "   vote_average  vote_count    year  \\\n",
       "0           7.7      5415.0  1995.0   \n",
       "1           7.7      1886.0  1995.0   \n",
       "2           7.1       423.0  1995.0   \n",
       "3           7.1        72.0  1995.0   \n",
       "4           7.8      1343.0  1995.0   \n",
       "\n",
       "                                            overview  \n",
       "0  Led by Woody, Andy's toys live happily in his ...  \n",
       "1  Obsessive master thief, Neil McCauley leads a ...  \n",
       "2  An outcast half-wolf risks his life to prevent...  \n",
       "3  An all-star cast powers this epic look at Amer...  \n",
       "4  The life of the gambling paradise â Las Vega...  "
      ]
     },
     "execution_count": 13,
     "metadata": {},
     "output_type": "execute_result"
    }
   ],
   "source": [
    "movies_new.head()"
   ]
  },
  {
   "cell_type": "code",
   "execution_count": 16,
   "id": "f8bbfa90",
   "metadata": {},
   "outputs": [
    {
     "data": {
      "text/plain": [
       "156"
      ]
     },
     "execution_count": 16,
     "metadata": {},
     "output_type": "execute_result"
    }
   ],
   "source": [
    "len(movies_new[movies_new['overview'].isna()])"
   ]
  },
  {
   "cell_type": "code",
   "execution_count": 17,
   "id": "c671d6db",
   "metadata": {},
   "outputs": [],
   "source": [
    "movies_new['overview']= movies_new['overview'].fillna(\"\")"
   ]
  },
  {
   "cell_type": "code",
   "execution_count": 20,
   "id": "dc6d0c2b",
   "metadata": {},
   "outputs": [],
   "source": [
    "tfidf_matrix = tfidf.fit_transform(movies_new['overview'])"
   ]
  },
  {
   "cell_type": "code",
   "execution_count": 21,
   "id": "cac1aacf",
   "metadata": {},
   "outputs": [
    {
     "name": "stdout",
     "output_type": "stream",
     "text": [
      "tfidf_matrix   (0, 7817)\t0.14272795631004825\n",
      "  (0, 1967)\t0.16153122597090963\n",
      "  (0, 16185)\t0.10595912814741203\n",
      "  (0, 9678)\t0.11097031197711084\n",
      "  (0, 8669)\t0.1373439598965242\n",
      "  (0, 20281)\t0.10929419108108458\n",
      "  (0, 25058)\t0.1373439598965242\n",
      "  (0, 5327)\t0.1306659428259581\n",
      "  (0, 21348)\t0.14172672975415035\n",
      "  (0, 12734)\t0.1075589826875022\n",
      "  (0, 21260)\t0.09652903133794946\n",
      "  (0, 16780)\t0.12750260536071006\n",
      "  (0, 878)\t0.150047309129906\n",
      "  (0, 24664)\t0.11885885279058876\n",
      "  (0, 16449)\t0.18997947475779023\n",
      "  (0, 4209)\t0.48459367791272895\n",
      "  (0, 3888)\t0.11255836940637114\n",
      "  (0, 3231)\t0.12701973428860708\n",
      "  (0, 24016)\t0.11506404784924885\n",
      "  (0, 12512)\t0.14489006721939837\n",
      "  (0, 16587)\t0.0931508115561448\n",
      "  (0, 28621)\t0.14730710157746935\n",
      "  (0, 1434)\t0.4251801892624511\n",
      "  (0, 30910)\t0.459631939785462\n",
      "  (0, 16208)\t0.1140247840744468\n",
      "  :\t:\n",
      "  (7713, 4340)\t0.1503089312027454\n",
      "  (7713, 12508)\t0.09888574941523143\n",
      "  (7713, 10629)\t0.11726809869346727\n",
      "  (7713, 19081)\t0.11178752622335994\n",
      "  (7713, 22773)\t0.11896747869450994\n",
      "  (7713, 31381)\t0.11726809869346727\n",
      "  (7713, 21268)\t0.11896747869450994\n",
      "  (7713, 10795)\t0.08684468754654566\n",
      "  (7713, 26311)\t0.08915054734080015\n",
      "  (7713, 15125)\t0.1076509136297291\n",
      "  (7713, 18348)\t0.08644514842899306\n",
      "  (7713, 13134)\t0.10509917756807738\n",
      "  (7713, 13322)\t0.10323140317139637\n",
      "  (7713, 26835)\t0.08377140983737318\n",
      "  (7713, 7978)\t0.0765527264437341\n",
      "  (7713, 15520)\t0.08399780824555722\n",
      "  (7713, 24889)\t0.0773811653329629\n",
      "  (7713, 9386)\t0.09611255054687805\n",
      "  (7713, 13424)\t0.08445986747990075\n",
      "  (7713, 7126)\t0.07849759933396792\n",
      "  (7713, 26643)\t0.08236912015695068\n",
      "  (7713, 12852)\t0.06828073622644971\n",
      "  (7713, 10449)\t0.05602173728207145\n",
      "  (7713, 25412)\t0.11065513142306871\n",
      "  (7713, 23486)\t0.1006139818090398\n"
     ]
    }
   ],
   "source": [
    "print('tfidf_matrix',tfidf_matrix)"
   ]
  },
  {
   "cell_type": "code",
   "execution_count": 22,
   "id": "1d9e6b76",
   "metadata": {},
   "outputs": [],
   "source": [
    "from sklearn.metrics.pairwise import linear_kernel"
   ]
  },
  {
   "cell_type": "code",
   "execution_count": 24,
   "id": "77f76aa7",
   "metadata": {},
   "outputs": [],
   "source": [
    "cosine_similarity = linear_kernel(tfidf_matrix, tfidf_matrix)"
   ]
  },
  {
   "cell_type": "code",
   "execution_count": 25,
   "id": "00aab926",
   "metadata": {},
   "outputs": [
    {
     "data": {
      "text/plain": [
       "array([[1.        , 0.        , 0.        , ..., 0.        , 0.00434795,\n",
       "        0.        ],\n",
       "       [0.        , 1.        , 0.        , ..., 0.        , 0.        ,\n",
       "        0.01600189],\n",
       "       [0.        , 0.        , 1.        , ..., 0.        , 0.00382082,\n",
       "        0.        ],\n",
       "       ...,\n",
       "       [0.        , 0.        , 0.        , ..., 1.        , 0.        ,\n",
       "        0.00577313],\n",
       "       [0.00434795, 0.        , 0.00382082, ..., 0.        , 1.        ,\n",
       "        0.00922048],\n",
       "       [0.        , 0.01600189, 0.        , ..., 0.00577313, 0.00922048,\n",
       "        1.        ]])"
      ]
     },
     "execution_count": 25,
     "metadata": {},
     "output_type": "execute_result"
    }
   ],
   "source": [
    "cosine_similarity"
   ]
  },
  {
   "cell_type": "code",
   "execution_count": 28,
   "id": "539dbfcf",
   "metadata": {},
   "outputs": [],
   "source": [
    "indices = pd.Series(movies_new.index, index = movies_new[\"title\"]).drop_duplicates()"
   ]
  },
  {
   "cell_type": "code",
   "execution_count": 29,
   "id": "10ae18d3",
   "metadata": {},
   "outputs": [
    {
     "data": {
      "text/plain": [
       "title\n",
       "Toy Story    0\n",
       "Heat         1\n",
       "Balto        2\n",
       "Nixon        3\n",
       "Casino       4\n",
       "dtype: int64"
      ]
     },
     "execution_count": 29,
     "metadata": {},
     "output_type": "execute_result"
    }
   ],
   "source": [
    "indices.head()"
   ]
  },
  {
   "cell_type": "code",
   "execution_count": 45,
   "id": "e6ccf5db",
   "metadata": {},
   "outputs": [],
   "source": [
    "def movie_recommender(title):\n",
    "    idx = indices[title]\n",
    "    similarity_scores = list(enumerate(cosine_similarity[idx]))\n",
    "    similarity_scores = sorted(similarity_scores,key = lambda x:x[1],reverse = True)\n",
    "    scores_final = similarity_scores[1:11]\n",
    "    movie_indices = [i[0] for i in scores_final]\n",
    "    return movies_new['title'].iloc[movie_indices]\n"
   ]
  },
  {
   "cell_type": "code",
   "execution_count": 46,
   "id": "457b06c6",
   "metadata": {},
   "outputs": [
    {
     "name": "stdout",
     "output_type": "stream",
     "text": [
      "Please enter a movie name: Heat\n"
     ]
    },
    {
     "data": {
      "text/plain": [
       "3450                         Woyzeck\n",
       "4038    The Woman in the Septic Tank\n",
       "7589                        Radiator\n",
       "5066                       Furious 7\n",
       "1882              Days of Being Wild\n",
       "6770         Maheshinte Prathikaaram\n",
       "3921            Last Cowboy Standing\n",
       "2091                Ivan's Childhood\n",
       "6829                  Audrie & Daisy\n",
       "5436                         Mustang\n",
       "Name: title, dtype: object"
      ]
     },
     "execution_count": 46,
     "metadata": {},
     "output_type": "execute_result"
    }
   ],
   "source": [
    "user_movie = input(\"Please enter a movie name: \")\n",
    "movie_recommender(user_movie)"
   ]
  },
  {
   "cell_type": "code",
   "execution_count": null,
   "id": "893f07d8",
   "metadata": {},
   "outputs": [],
   "source": []
  }
 ],
 "metadata": {
  "kernelspec": {
   "display_name": "Python 3",
   "language": "python",
   "name": "python3"
  },
  "language_info": {
   "codemirror_mode": {
    "name": "ipython",
    "version": 3
   },
   "file_extension": ".py",
   "mimetype": "text/x-python",
   "name": "python",
   "nbconvert_exporter": "python",
   "pygments_lexer": "ipython3",
   "version": "3.8.8"
  }
 },
 "nbformat": 4,
 "nbformat_minor": 5
}
