{
 "cells": [
  {
   "cell_type": "code",
   "execution_count": null,
   "id": "bc712752",
   "metadata": {},
   "outputs": [],
   "source": [
    "print (\"Hello!\")"
   ]
  },
  {
   "cell_type": "code",
   "execution_count": null,
   "id": "b6a57c37",
   "metadata": {},
   "outputs": [],
   "source": [
    "a1= 'MAT'\n",
    "a1"
   ]
  },
  {
   "cell_type": "code",
   "execution_count": null,
   "id": "4c33cfe2",
   "metadata": {},
   "outputs": [],
   "source": [
    "type(a1)"
   ]
  },
  {
   "cell_type": "code",
   "execution_count": null,
   "id": "92d20060",
   "metadata": {},
   "outputs": [],
   "source": [
    "b1= 1.2\n",
    "type(b1)\n"
   ]
  },
  {
   "cell_type": "code",
   "execution_count": null,
   "id": "f13d776f",
   "metadata": {},
   "outputs": [],
   "source": [
    "v1= 1+5j\n",
    "type(v1)"
   ]
  },
  {
   "cell_type": "code",
   "execution_count": null,
   "id": "d6e3cc50",
   "metadata": {},
   "outputs": [],
   "source": [
    "a=10\n",
    "b=20\n",
    "c=5"
   ]
  },
  {
   "cell_type": "code",
   "execution_count": null,
   "id": "e7a0b56b",
   "metadata": {},
   "outputs": [],
   "source": [
    "a+b+c"
   ]
  },
  {
   "cell_type": "code",
   "execution_count": null,
   "id": "8cff8db0",
   "metadata": {},
   "outputs": [],
   "source": [
    "a-b"
   ]
  },
  {
   "cell_type": "code",
   "execution_count": null,
   "id": "3133745c",
   "metadata": {},
   "outputs": [],
   "source": [
    "b-c"
   ]
  },
  {
   "cell_type": "code",
   "execution_count": null,
   "id": "b7e81ec4",
   "metadata": {},
   "outputs": [],
   "source": [
    "a-b-c"
   ]
  },
  {
   "cell_type": "code",
   "execution_count": null,
   "id": "4d4e795f",
   "metadata": {},
   "outputs": [],
   "source": [
    "a*b"
   ]
  },
  {
   "cell_type": "code",
   "execution_count": null,
   "id": "2f3a50b2",
   "metadata": {},
   "outputs": [],
   "source": [
    "a*b*c"
   ]
  },
  {
   "cell_type": "code",
   "execution_count": null,
   "id": "6cd61893",
   "metadata": {},
   "outputs": [],
   "source": [
    "a*b/c"
   ]
  },
  {
   "cell_type": "code",
   "execution_count": null,
   "id": "ff4e58b4",
   "metadata": {},
   "outputs": [],
   "source": [
    "a==b"
   ]
  },
  {
   "cell_type": "code",
   "execution_count": null,
   "id": "ae984eda",
   "metadata": {},
   "outputs": [],
   "source": [
    "a==b==c"
   ]
  },
  {
   "cell_type": "code",
   "execution_count": null,
   "id": "e7e47adc",
   "metadata": {},
   "outputs": [],
   "source": [
    "a!=b"
   ]
  },
  {
   "cell_type": "code",
   "execution_count": null,
   "id": "929ca0e9",
   "metadata": {},
   "outputs": [],
   "source": [
    "m=9\n",
    "n=9"
   ]
  },
  {
   "cell_type": "code",
   "execution_count": null,
   "id": "76e92a22",
   "metadata": {},
   "outputs": [],
   "source": [
    "m==n"
   ]
  },
  {
   "cell_type": "code",
   "execution_count": null,
   "id": "0c26e9f7",
   "metadata": {},
   "outputs": [],
   "source": [
    "d=True\n",
    "e=False\n"
   ]
  },
  {
   "cell_type": "code",
   "execution_count": null,
   "id": "fff7cecd",
   "metadata": {},
   "outputs": [],
   "source": [
    "d&e"
   ]
  },
  {
   "cell_type": "code",
   "execution_count": null,
   "id": "96fde508",
   "metadata": {},
   "outputs": [],
   "source": [
    "d&d"
   ]
  },
  {
   "cell_type": "code",
   "execution_count": null,
   "id": "e8abab08",
   "metadata": {},
   "outputs": [],
   "source": [
    "e&e"
   ]
  },
  {
   "cell_type": "code",
   "execution_count": null,
   "id": "d5fbe54e",
   "metadata": {},
   "outputs": [],
   "source": [
    "e&d"
   ]
  },
  {
   "cell_type": "code",
   "execution_count": null,
   "id": "4d4ba2d6",
   "metadata": {},
   "outputs": [],
   "source": [
    "d|d"
   ]
  },
  {
   "cell_type": "code",
   "execution_count": null,
   "id": "3f6b8c50",
   "metadata": {},
   "outputs": [],
   "source": [
    "d|e"
   ]
  },
  {
   "cell_type": "code",
   "execution_count": null,
   "id": "a4147a97",
   "metadata": {},
   "outputs": [],
   "source": [
    "e|d"
   ]
  },
  {
   "cell_type": "code",
   "execution_count": null,
   "id": "76da790f",
   "metadata": {},
   "outputs": [],
   "source": [
    "e|e"
   ]
  },
  {
   "cell_type": "code",
   "execution_count": null,
   "id": "d91bc92e",
   "metadata": {},
   "outputs": [],
   "source": [
    "s= \"Hello World!\"\n",
    "s[0]"
   ]
  },
  {
   "cell_type": "code",
   "execution_count": null,
   "id": "a4d494a6",
   "metadata": {},
   "outputs": [],
   "source": [
    "s[-1]"
   ]
  },
  {
   "cell_type": "code",
   "execution_count": null,
   "id": "c52ca006",
   "metadata": {},
   "outputs": [],
   "source": [
    "s1= \"Hello world, just started\""
   ]
  },
  {
   "cell_type": "code",
   "execution_count": null,
   "id": "20552b69",
   "metadata": {},
   "outputs": [],
   "source": [
    "s1"
   ]
  },
  {
   "cell_type": "code",
   "execution_count": null,
   "id": "76885ef7",
   "metadata": {},
   "outputs": [],
   "source": [
    "print (s1)"
   ]
  },
  {
   "cell_type": "code",
   "execution_count": null,
   "id": "f370ce95",
   "metadata": {},
   "outputs": [],
   "source": [
    "s1[6:11]"
   ]
  },
  {
   "cell_type": "code",
   "execution_count": null,
   "id": "ce453f6a",
   "metadata": {},
   "outputs": [],
   "source": [
    "len(s1)"
   ]
  },
  {
   "cell_type": "code",
   "execution_count": null,
   "id": "3676458e",
   "metadata": {},
   "outputs": [],
   "source": [
    "s1.lower()"
   ]
  },
  {
   "cell_type": "code",
   "execution_count": null,
   "id": "d6645117",
   "metadata": {},
   "outputs": [],
   "source": [
    "s1.upper()"
   ]
  },
  {
   "cell_type": "code",
   "execution_count": null,
   "id": "ac18e80a",
   "metadata": {},
   "outputs": [],
   "source": [
    "s1.replace('world','buddy')"
   ]
  },
  {
   "cell_type": "code",
   "execution_count": null,
   "id": "9fd79799",
   "metadata": {},
   "outputs": [],
   "source": [
    "s1.count('t')"
   ]
  },
  {
   "cell_type": "code",
   "execution_count": null,
   "id": "792f5e51",
   "metadata": {},
   "outputs": [],
   "source": [
    "s1.find('world')"
   ]
  },
  {
   "cell_type": "code",
   "execution_count": null,
   "id": "b40bf20f",
   "metadata": {},
   "outputs": [],
   "source": [
    "s1.find('just')"
   ]
  },
  {
   "cell_type": "code",
   "execution_count": null,
   "id": "7b1ae026",
   "metadata": {},
   "outputs": [],
   "source": [
    "fruit = 'mango,banana,grap'\n",
    "fruit.split(',')"
   ]
  },
  {
   "cell_type": "code",
   "execution_count": null,
   "id": "3782841f",
   "metadata": {},
   "outputs": [],
   "source": [
    "tup=(1,'aim',True,3,'bio',False)"
   ]
  },
  {
   "cell_type": "code",
   "execution_count": null,
   "id": "3a132c5d",
   "metadata": {},
   "outputs": [],
   "source": [
    "tup"
   ]
  },
  {
   "cell_type": "code",
   "execution_count": null,
   "id": "ce63a210",
   "metadata": {},
   "outputs": [],
   "source": [
    "type(tup)"
   ]
  },
  {
   "cell_type": "code",
   "execution_count": null,
   "id": "a9642aad",
   "metadata": {},
   "outputs": [],
   "source": [
    "tup[1]"
   ]
  },
  {
   "cell_type": "code",
   "execution_count": null,
   "id": "af76e2a0",
   "metadata": {},
   "outputs": [],
   "source": [
    "tup[-2]"
   ]
  },
  {
   "cell_type": "code",
   "execution_count": null,
   "id": "cb97de03",
   "metadata": {},
   "outputs": [],
   "source": [
    "tup[2:6]"
   ]
  },
  {
   "cell_type": "code",
   "execution_count": null,
   "id": "a5876164",
   "metadata": {},
   "outputs": [],
   "source": [
    "len(tup)"
   ]
  },
  {
   "cell_type": "code",
   "execution_count": null,
   "id": "f15cc720",
   "metadata": {},
   "outputs": [],
   "source": [
    "tup1=(3,True,'three',4,False,'four')"
   ]
  },
  {
   "cell_type": "code",
   "execution_count": null,
   "id": "e8eaacd9",
   "metadata": {},
   "outputs": [],
   "source": [
    "tup+tup1"
   ]
  },
  {
   "cell_type": "code",
   "execution_count": null,
   "id": "11915794",
   "metadata": {},
   "outputs": [],
   "source": [
    "tup*4"
   ]
  },
  {
   "cell_type": "code",
   "execution_count": null,
   "id": "91dbedaa",
   "metadata": {},
   "outputs": [],
   "source": [
    "tup*2+tup1*3"
   ]
  },
  {
   "cell_type": "code",
   "execution_count": null,
   "id": "39773658",
   "metadata": {},
   "outputs": [],
   "source": [
    "tup2=(3,53,43,0,13,45,99)"
   ]
  },
  {
   "cell_type": "code",
   "execution_count": null,
   "id": "dae66e25",
   "metadata": {},
   "outputs": [],
   "source": [
    "max(tup2)"
   ]
  },
  {
   "cell_type": "code",
   "execution_count": null,
   "id": "fe98f225",
   "metadata": {},
   "outputs": [],
   "source": [
    "min(tup2)"
   ]
  },
  {
   "cell_type": "code",
   "execution_count": null,
   "id": "f6a1fcc7",
   "metadata": {},
   "outputs": [],
   "source": [
    "l1=[1,3,'man',True,3+5j]"
   ]
  },
  {
   "cell_type": "code",
   "execution_count": null,
   "id": "b1531cab",
   "metadata": {},
   "outputs": [],
   "source": [
    "l1"
   ]
  },
  {
   "cell_type": "code",
   "execution_count": null,
   "id": "09015a53",
   "metadata": {},
   "outputs": [],
   "source": [
    "l1[1]"
   ]
  },
  {
   "cell_type": "code",
   "execution_count": null,
   "id": "764bd0fe",
   "metadata": {},
   "outputs": [],
   "source": [
    "l1[2:4]"
   ]
  },
  {
   "cell_type": "code",
   "execution_count": null,
   "id": "78a66745",
   "metadata": {},
   "outputs": [],
   "source": [
    "l1[0]=5"
   ]
  },
  {
   "cell_type": "code",
   "execution_count": null,
   "id": "8398ba96",
   "metadata": {},
   "outputs": [],
   "source": [
    "l1"
   ]
  },
  {
   "cell_type": "code",
   "execution_count": null,
   "id": "01b626ec",
   "metadata": {},
   "outputs": [],
   "source": [
    "l1.append(\"hellol!\")"
   ]
  },
  {
   "cell_type": "code",
   "execution_count": null,
   "id": "a1c3fdd2",
   "metadata": {},
   "outputs": [],
   "source": [
    "l1"
   ]
  },
  {
   "cell_type": "code",
   "execution_count": null,
   "id": "d0a5b332",
   "metadata": {},
   "outputs": [],
   "source": [
    "l1.pop()"
   ]
  },
  {
   "cell_type": "code",
   "execution_count": null,
   "id": "0b50683b",
   "metadata": {},
   "outputs": [],
   "source": [
    "l1"
   ]
  },
  {
   "cell_type": "code",
   "execution_count": null,
   "id": "7110dec3",
   "metadata": {},
   "outputs": [],
   "source": [
    "l1.pop(True)"
   ]
  },
  {
   "cell_type": "code",
   "execution_count": null,
   "id": "d2be74cc",
   "metadata": {},
   "outputs": [],
   "source": [
    "l1"
   ]
  },
  {
   "cell_type": "code",
   "execution_count": null,
   "id": "eae3e0f7",
   "metadata": {},
   "outputs": [],
   "source": [
    "l1.reverse()"
   ]
  },
  {
   "cell_type": "code",
   "execution_count": null,
   "id": "4b5eaa61",
   "metadata": {},
   "outputs": [],
   "source": [
    "l1"
   ]
  },
  {
   "cell_type": "code",
   "execution_count": null,
   "id": "27378716",
   "metadata": {},
   "outputs": [],
   "source": [
    "l2=['ball','lion','king','kinife','apple']"
   ]
  },
  {
   "cell_type": "code",
   "execution_count": null,
   "id": "01af6ec4",
   "metadata": {},
   "outputs": [],
   "source": [
    "l2"
   ]
  },
  {
   "cell_type": "code",
   "execution_count": null,
   "id": "db5dea20",
   "metadata": {},
   "outputs": [],
   "source": [
    "l2.sort()"
   ]
  },
  {
   "cell_type": "code",
   "execution_count": null,
   "id": "676e315f",
   "metadata": {},
   "outputs": [],
   "source": [
    "l2"
   ]
  },
  {
   "cell_type": "code",
   "execution_count": null,
   "id": "e0bf46f5",
   "metadata": {},
   "outputs": [],
   "source": [
    "l2.insert(1,'queen')"
   ]
  },
  {
   "cell_type": "code",
   "execution_count": null,
   "id": "e4dd2a62",
   "metadata": {},
   "outputs": [],
   "source": [
    "l2"
   ]
  },
  {
   "cell_type": "code",
   "execution_count": null,
   "id": "4ad45564",
   "metadata": {},
   "outputs": [],
   "source": [
    "l4=[1,2,5,4]\n",
    "l5=[6,8,9,7,2]"
   ]
  },
  {
   "cell_type": "code",
   "execution_count": null,
   "id": "b4e155ee",
   "metadata": {},
   "outputs": [],
   "source": [
    "l4+l5"
   ]
  },
  {
   "cell_type": "code",
   "execution_count": null,
   "id": "155e853e",
   "metadata": {},
   "outputs": [],
   "source": [
    "l4*2+l4*3"
   ]
  },
  {
   "cell_type": "code",
   "execution_count": null,
   "id": "a31af75b",
   "metadata": {},
   "outputs": [],
   "source": [
    "toy={'car':50,'house':100,'train':200,'robort':500}"
   ]
  },
  {
   "cell_type": "code",
   "execution_count": null,
   "id": "a45328d8",
   "metadata": {},
   "outputs": [],
   "source": [
    "type(toy)"
   ]
  },
  {
   "cell_type": "code",
   "execution_count": null,
   "id": "ccb535c7",
   "metadata": {},
   "outputs": [],
   "source": [
    "toy.keys()"
   ]
  },
  {
   "cell_type": "code",
   "execution_count": null,
   "id": "a72c9715",
   "metadata": {},
   "outputs": [],
   "source": [
    "toy.values()"
   ]
  },
  {
   "cell_type": "code",
   "execution_count": null,
   "id": "63426f80",
   "metadata": {},
   "outputs": [],
   "source": [
    "toy.items()"
   ]
  },
  {
   "cell_type": "code",
   "execution_count": null,
   "id": "e4a95afa",
   "metadata": {},
   "outputs": [],
   "source": [
    "toy['dino']=550"
   ]
  },
  {
   "cell_type": "code",
   "execution_count": null,
   "id": "f3d6c7d4",
   "metadata": {},
   "outputs": [],
   "source": [
    "toy"
   ]
  },
  {
   "cell_type": "code",
   "execution_count": null,
   "id": "d4d44088",
   "metadata": {},
   "outputs": [],
   "source": [
    "toy['house']=150"
   ]
  },
  {
   "cell_type": "code",
   "execution_count": null,
   "id": "ac16e70c",
   "metadata": {},
   "outputs": [],
   "source": [
    "toy"
   ]
  },
  {
   "cell_type": "code",
   "execution_count": null,
   "id": "0c231d3f",
   "metadata": {},
   "outputs": [],
   "source": [
    "toy2={'birbe':150,'teddy':400}"
   ]
  },
  {
   "cell_type": "code",
   "execution_count": null,
   "id": "5b85d264",
   "metadata": {},
   "outputs": [],
   "source": [
    "toy.update(toy2)"
   ]
  },
  {
   "cell_type": "code",
   "execution_count": null,
   "id": "0fd733db",
   "metadata": {},
   "outputs": [],
   "source": [
    "toy"
   ]
  },
  {
   "cell_type": "code",
   "execution_count": null,
   "id": "944b8ab4",
   "metadata": {},
   "outputs": [],
   "source": [
    "toy.pop(\"train\")"
   ]
  },
  {
   "cell_type": "code",
   "execution_count": null,
   "id": "771db0c7",
   "metadata": {},
   "outputs": [],
   "source": [
    "toy"
   ]
  },
  {
   "cell_type": "code",
   "execution_count": null,
   "id": "293ad8d6",
   "metadata": {},
   "outputs": [],
   "source": [
    "s1={1,'sam','sam',2}"
   ]
  },
  {
   "cell_type": "code",
   "execution_count": null,
   "id": "1491beb1",
   "metadata": {},
   "outputs": [],
   "source": [
    "s1"
   ]
  },
  {
   "cell_type": "code",
   "execution_count": null,
   "id": "523f199a",
   "metadata": {},
   "outputs": [],
   "source": [
    "s1.add('hello')"
   ]
  },
  {
   "cell_type": "code",
   "execution_count": null,
   "id": "27b655aa",
   "metadata": {},
   "outputs": [],
   "source": [
    "s1"
   ]
  },
  {
   "cell_type": "code",
   "execution_count": null,
   "id": "bd9ef2d6",
   "metadata": {},
   "outputs": [],
   "source": [
    "s1.remove(2)"
   ]
  },
  {
   "cell_type": "code",
   "execution_count": null,
   "id": "2a455688",
   "metadata": {},
   "outputs": [],
   "source": [
    "s1"
   ]
  },
  {
   "cell_type": "code",
   "execution_count": null,
   "id": "4e9bbf79",
   "metadata": {},
   "outputs": [],
   "source": [
    "s1.update([1,2,6,4,'jack'])"
   ]
  },
  {
   "cell_type": "code",
   "execution_count": null,
   "id": "9d2b0750",
   "metadata": {},
   "outputs": [],
   "source": [
    "s1"
   ]
  },
  {
   "cell_type": "code",
   "execution_count": null,
   "id": "2aeafbb6",
   "metadata": {},
   "outputs": [],
   "source": [
    "s2={'a','b','c'}"
   ]
  },
  {
   "cell_type": "code",
   "execution_count": null,
   "id": "2f175368",
   "metadata": {},
   "outputs": [],
   "source": [
    "s1.union(s2)"
   ]
  },
  {
   "cell_type": "code",
   "execution_count": null,
   "id": "d09b94ee",
   "metadata": {},
   "outputs": [],
   "source": [
    "s3={2,6,'b','c'}"
   ]
  },
  {
   "cell_type": "code",
   "execution_count": null,
   "id": "43f38a69",
   "metadata": {},
   "outputs": [],
   "source": [
    "s1.intersection(s3)"
   ]
  },
  {
   "cell_type": "code",
   "execution_count": null,
   "id": "ab15b7c3",
   "metadata": {},
   "outputs": [],
   "source": [
    "s1"
   ]
  },
  {
   "cell_type": "code",
   "execution_count": null,
   "id": "54bb0d4b",
   "metadata": {},
   "outputs": [],
   "source": [
    "a=100\n",
    "b=600\n",
    "if a>b:\n",
    "    print(\"a is greater than b\")\n",
    "else: \n",
    "    print(\"b is greater than a\");"
   ]
  },
  {
   "cell_type": "code",
   "execution_count": null,
   "id": "0c2df8b0",
   "metadata": {},
   "outputs": [],
   "source": [
    "a=600\n",
    "b=500\n",
    "c=200"
   ]
  },
  {
   "cell_type": "code",
   "execution_count": null,
   "id": "a20c3608",
   "metadata": {},
   "outputs": [],
   "source": [
    "if (a>b & a>c):\n",
    "    print (\"a is greater than b and c\")\n",
    "elif (b>a & b>c):\n",
    "    print (\"b greater than a and c\")\n",
    "else:\n",
    "    print ('c greater than a and b')"
   ]
  },
  {
   "cell_type": "code",
   "execution_count": null,
   "id": "6468b917",
   "metadata": {},
   "outputs": [],
   "source": [
    "a=600\n",
    "b=500\n",
    "c=200\n",
    "if (a>b & a>c):\n",
    "    print (\"a is greater than b and c\")\n",
    "elif (b>a & b>c):\n",
    "    print ('b greater than a and c')\n",
    "elif (c>a & c>b):\n",
    "    print ('c greater than a and b')\n",
    "else:\n",
    "    print(\"can't determine\")"
   ]
  },
  {
   "cell_type": "code",
   "execution_count": null,
   "id": "3fb8de94",
   "metadata": {},
   "outputs": [],
   "source": [
    "tup6=(1,2,6,4,5,8)"
   ]
  },
  {
   "cell_type": "code",
   "execution_count": null,
   "id": "e8911676",
   "metadata": {},
   "outputs": [],
   "source": [
    "if 7 in tup6:\n",
    "    print('yes')\n",
    "else:\n",
    "    print('no')"
   ]
  },
  {
   "cell_type": "code",
   "execution_count": null,
   "id": "c05499bf",
   "metadata": {},
   "outputs": [],
   "source": [
    "l5=[2,5,6,7,8,9]\n"
   ]
  },
  {
   "cell_type": "code",
   "execution_count": null,
   "id": "1b49d535",
   "metadata": {},
   "outputs": [],
   "source": [
    "if l5[5]==9:\n",
    "    l5[5]=l5[5]+2"
   ]
  },
  {
   "cell_type": "code",
   "execution_count": null,
   "id": "ab5e4e9e",
   "metadata": {},
   "outputs": [],
   "source": [
    "l5"
   ]
  },
  {
   "cell_type": "code",
   "execution_count": null,
   "id": "6c729053",
   "metadata": {},
   "outputs": [],
   "source": [
    "if l5[4]==3:\n",
    "    l5[4]=l5[4]+2\n",
    "else:\n",
    "    l5[3]=l5[3]-3"
   ]
  },
  {
   "cell_type": "code",
   "execution_count": null,
   "id": "aa4721ab",
   "metadata": {},
   "outputs": [],
   "source": [
    "l5"
   ]
  },
  {
   "cell_type": "code",
   "execution_count": null,
   "id": "1a93d917",
   "metadata": {},
   "outputs": [],
   "source": [
    "d3={'d':5,'f':6,'g':7}"
   ]
  },
  {
   "cell_type": "code",
   "execution_count": null,
   "id": "3c640f51",
   "metadata": {},
   "outputs": [],
   "source": [
    "if d3 ['g']==7:\n",
    "    d3['g']=d3['g']+5"
   ]
  },
  {
   "cell_type": "code",
   "execution_count": null,
   "id": "68591468",
   "metadata": {},
   "outputs": [],
   "source": [
    "d3"
   ]
  },
  {
   "cell_type": "code",
   "execution_count": null,
   "id": "e64123e4",
   "metadata": {},
   "outputs": [],
   "source": [
    "#while"
   ]
  },
  {
   "cell_type": "code",
   "execution_count": null,
   "id": "440426a1",
   "metadata": {},
   "outputs": [],
   "source": [
    "i=1\n",
    "while i<=10:\n",
    "    print(i)\n",
    "    i=i+1"
   ]
  },
  {
   "cell_type": "code",
   "execution_count": null,
   "id": "22bf5382",
   "metadata": {},
   "outputs": [],
   "source": [
    "i=1\n",
    "n=2\n",
    "while i<=10:\n",
    "    print(n,'*',i,'=',n*i)\n",
    "    i=i+1"
   ]
  },
  {
   "cell_type": "code",
   "execution_count": null,
   "id": "3d56fb86",
   "metadata": {},
   "outputs": [],
   "source": [
    "l7=[1,2,4,5,6,7]"
   ]
  },
  {
   "cell_type": "code",
   "execution_count": null,
   "id": "a3dd67d6",
   "metadata": {},
   "outputs": [],
   "source": [
    "i=0"
   ]
  },
  {
   "cell_type": "code",
   "execution_count": null,
   "id": "f14ffe6e",
   "metadata": {},
   "outputs": [],
   "source": [
    "while i<len(l7):\n",
    "    l7[i]=l7[i]+25\n",
    "    i=i+1\n",
    "   "
   ]
  },
  {
   "cell_type": "code",
   "execution_count": null,
   "id": "a7fd188b",
   "metadata": {},
   "outputs": [],
   "source": [
    "l7"
   ]
  },
  {
   "cell_type": "code",
   "execution_count": null,
   "id": "5bbbc8e7",
   "metadata": {},
   "outputs": [],
   "source": [
    "#for"
   ]
  },
  {
   "cell_type": "code",
   "execution_count": null,
   "id": "876a5b11",
   "metadata": {},
   "outputs": [],
   "source": [
    "l5=['orange','apple','banana']"
   ]
  },
  {
   "cell_type": "code",
   "execution_count": null,
   "id": "0ff9515f",
   "metadata": {},
   "outputs": [],
   "source": [
    "for i in l5:\n",
    "    print (i)"
   ]
  },
  {
   "cell_type": "code",
   "execution_count": null,
   "id": "12111073",
   "metadata": {},
   "outputs": [],
   "source": [
    "l5=['orange','apple','banana']\n",
    "l6=['Red','Green','Blue']"
   ]
  },
  {
   "cell_type": "code",
   "execution_count": null,
   "id": "c43a4988",
   "metadata": {},
   "outputs": [],
   "source": [
    "for i in l5:\n",
    "    for j in l6:\n",
    "        print(i,j)"
   ]
  },
  {
   "cell_type": "code",
   "execution_count": null,
   "id": "2d24e0c4",
   "metadata": {},
   "outputs": [],
   "source": [
    "#check even or odd"
   ]
  },
  {
   "cell_type": "code",
   "execution_count": null,
   "id": "26187021",
   "metadata": {},
   "outputs": [],
   "source": [
    "num= int(input(\"Enter a number: \"))\n",
    "if (num%2)==0:\n",
    "    print(num,\"is even\")\n",
    "else:\n",
    "    print(num,\"is odd\")"
   ]
  },
  {
   "cell_type": "code",
   "execution_count": null,
   "id": "6b778e83",
   "metadata": {},
   "outputs": [],
   "source": [
    "#check positive or negative or zero"
   ]
  },
  {
   "cell_type": "code",
   "execution_count": null,
   "id": "27fb1ed2",
   "metadata": {},
   "outputs": [],
   "source": [
    "num= float(input(\"enter a number: \"))\n",
    "if(num>0):\n",
    "    print (num,\"is positive number\")\n",
    "elif(num==0):\n",
    "    print (num,\"is zero\")\n",
    "else:\n",
    "    print (num,\"is negative\")"
   ]
  },
  {
   "cell_type": "code",
   "execution_count": null,
   "id": "557969d3",
   "metadata": {},
   "outputs": [],
   "source": [
    "#factorial of number"
   ]
  },
  {
   "cell_type": "code",
   "execution_count": null,
   "id": "23c5f39a",
   "metadata": {},
   "outputs": [],
   "source": [
    "num= int(input(\"enter a number: \"))\n",
    "fact = 1\n",
    "if num<0:\n",
    "    print(\"Sorry!! factorial doesn't exit for negative no\")\n",
    "elif num==0:\n",
    "    print(\"The factorial is 1\")\n",
    "else:\n",
    "    for i in range(1,num+1):\n",
    "        fact=fact*i\n",
    "    print(\"The factorial of \",num,\"is\",fact)"
   ]
  },
  {
   "cell_type": "code",
   "execution_count": null,
   "id": "65adc0d9",
   "metadata": {},
   "outputs": [],
   "source": [
    "#reverse a number"
   ]
  },
  {
   "cell_type": "code",
   "execution_count": 3,
   "id": "b5e4ddab",
   "metadata": {},
   "outputs": [
    {
     "name": "stdout",
     "output_type": "stream",
     "text": [
      "Enter the number: 125\n",
      "Reverse no is:  521\n"
     ]
    }
   ],
   "source": [
    "n=int(input(\"Enter the number: \"))\n",
    "rev=0\n",
    "while(n>0):\n",
    "    d=n%10\n",
    "    rev=rev*10+d\n",
    "    n=n//10\n",
    "print(\"Reverse no is: \",rev)\n",
    "    "
   ]
  },
  {
   "cell_type": "code",
   "execution_count": 2,
   "id": "78c44903",
   "metadata": {},
   "outputs": [
    {
     "name": "stdout",
     "output_type": "stream",
     "text": [
      "Enter the number: 121\n",
      "Reverse no is:  121\n",
      "The number is a palindrom\n"
     ]
    }
   ],
   "source": [
    "n=int(input(\"Enter the number: \"))\n",
    "temp=n\n",
    "rev=0\n",
    "while(n>0):\n",
    "    d=n%10\n",
    "    rev=rev*10+d\n",
    "    n=n//10\n",
    "print(\"Reverse no is: \",rev)\n",
    "if (temp==rev):\n",
    "    print(\"The number is a palindrom\")\n",
    "else:\n",
    "    print(\"The number is not a plaindrom\")"
   ]
  },
  {
   "cell_type": "code",
   "execution_count": 4,
   "id": "79a2dd9d",
   "metadata": {},
   "outputs": [],
   "source": [
    "#fibonacci"
   ]
  },
  {
   "cell_type": "code",
   "execution_count": 6,
   "id": "b3f84506",
   "metadata": {},
   "outputs": [
    {
     "name": "stdout",
     "output_type": "stream",
     "text": [
      "enter a number:5\n",
      "3\n"
     ]
    }
   ],
   "source": [
    "n=int(input(\"enter a number:\"))\n",
    "a=0\n",
    "b=1\n",
    "if n<0:\n",
    "    print(\"wrong input\")\n",
    "elif n==0:\n",
    "    print(a)\n",
    "elif n==1:\n",
    "    print(a)\n",
    "else:\n",
    "    for i in range (2,n):\n",
    "        c=a+b\n",
    "        a=b\n",
    "        b=c\n",
    "    print(b)\n",
    "        \n",
    "    "
   ]
  },
  {
   "cell_type": "code",
   "execution_count": 10,
   "id": "54dd724a",
   "metadata": {},
   "outputs": [
    {
     "name": "stdout",
     "output_type": "stream",
     "text": [
      "\n",
      "\n",
      "1 \n",
      "\n",
      "2 2 \n",
      "\n",
      "3 3 3 \n",
      "\n",
      "4 4 4 4 \n",
      "\n",
      "5 5 5 5 5 \n",
      "\n",
      "6 6 6 6 6 6 \n",
      "\n",
      "7 7 7 7 7 7 7 \n",
      "\n",
      "8 8 8 8 8 8 8 8 \n",
      "\n",
      "9 9 9 9 9 9 9 9 9 \n",
      "\n"
     ]
    }
   ],
   "source": [
    "for num in range(10):\n",
    "    for i in range(num):\n",
    "        print(num,end=\" \")\n",
    "    print(\"\\n\")\n"
   ]
  },
  {
   "cell_type": "code",
   "execution_count": 2,
   "id": "310c2d64",
   "metadata": {},
   "outputs": [],
   "source": [
    "def oe(x):\n",
    "    if x%2==0:\n",
    "        print (x,'even number!!')\n",
    "    else:\n",
    "        print(x,'odd number!!')"
   ]
  },
  {
   "cell_type": "code",
   "execution_count": 3,
   "id": "595529f5",
   "metadata": {},
   "outputs": [
    {
     "name": "stdout",
     "output_type": "stream",
     "text": [
      "10 even number!!\n"
     ]
    }
   ],
   "source": [
    "oe(10)"
   ]
  },
  {
   "cell_type": "code",
   "execution_count": 4,
   "id": "08a00d22",
   "metadata": {},
   "outputs": [
    {
     "name": "stdout",
     "output_type": "stream",
     "text": [
      "5 odd number!!\n"
     ]
    }
   ],
   "source": [
    "oe(5)"
   ]
  },
  {
   "cell_type": "code",
   "execution_count": 11,
   "id": "cf5c9ac2",
   "metadata": {},
   "outputs": [
    {
     "name": "stdout",
     "output_type": "stream",
     "text": [
      "[25, 85, 59, 45, 25]\n"
     ]
    }
   ],
   "source": [
    "li=[10,25,85,74,36,59,45,25,12,80]\n",
    "final_list = list(filter(lambda x:(x%2!=0),li))\n",
    "print(final_list)"
   ]
  },
  {
   "cell_type": "code",
   "execution_count": 12,
   "id": "9fa27aae",
   "metadata": {},
   "outputs": [
    {
     "name": "stdout",
     "output_type": "stream",
     "text": [
      "[20, 50, 170, 148, 72, 118, 90, 50, 24, 160]\n"
     ]
    }
   ],
   "source": [
    "li=[10,25,85,74,36,59,45,25,12,80]\n",
    "final_list = list(map(lambda x:x*2,li))\n",
    "print(final_list)"
   ]
  },
  {
   "cell_type": "code",
   "execution_count": 13,
   "id": "bb2b0215",
   "metadata": {},
   "outputs": [
    {
     "name": "stdout",
     "output_type": "stream",
     "text": [
      "451\n"
     ]
    }
   ],
   "source": [
    "from functools import reduce\n",
    "li=[10,25,85,74,36,59,45,25,12,80]\n",
    "sum = reduce((lambda x,y:x+y),li)\n",
    "print(sum)"
   ]
  },
  {
   "cell_type": "code",
   "execution_count": 14,
   "id": "40e15449",
   "metadata": {},
   "outputs": [],
   "source": [
    "#claas object"
   ]
  },
  {
   "cell_type": "code",
   "execution_count": 15,
   "id": "716a6562",
   "metadata": {},
   "outputs": [],
   "source": [
    "class Phone:\n",
    "    def make_call(self):\n",
    "        print('making phone call')\n",
    "    def play_game(self):\n",
    "        print('playing game')"
   ]
  },
  {
   "cell_type": "code",
   "execution_count": 17,
   "id": "62873832",
   "metadata": {},
   "outputs": [],
   "source": [
    "p1=Phone()"
   ]
  },
  {
   "cell_type": "code",
   "execution_count": 18,
   "id": "49b7ae21",
   "metadata": {},
   "outputs": [
    {
     "name": "stdout",
     "output_type": "stream",
     "text": [
      "making phone call\n"
     ]
    }
   ],
   "source": [
    "p1.make_call()"
   ]
  },
  {
   "cell_type": "code",
   "execution_count": 20,
   "id": "dd03edb0",
   "metadata": {},
   "outputs": [
    {
     "name": "stdout",
     "output_type": "stream",
     "text": [
      "playing game\n"
     ]
    }
   ],
   "source": [
    "p1.play_game()"
   ]
  },
  {
   "cell_type": "code",
   "execution_count": 22,
   "id": "22f20a45",
   "metadata": {},
   "outputs": [],
   "source": [
    "class Phone:\n",
    "    def set_color(self,color):\n",
    "        self.color=color\n",
    "    def set_cost(self,cost):\n",
    "        self.cost=cost\n",
    "    def show_color(self):\n",
    "        return self.color\n",
    "    def show_cost(self):\n",
    "        return self.cost\n",
    "    def make_call(self):\n",
    "        print('making phone call')\n",
    "    def play_game(self):\n",
    "        print('playing game')\n",
    "   "
   ]
  },
  {
   "cell_type": "code",
   "execution_count": 25,
   "id": "01a57835",
   "metadata": {},
   "outputs": [],
   "source": [
    "p2=Phone()"
   ]
  },
  {
   "cell_type": "code",
   "execution_count": 26,
   "id": "a824b979",
   "metadata": {},
   "outputs": [],
   "source": [
    "p2.set_color('red')"
   ]
  },
  {
   "cell_type": "code",
   "execution_count": 27,
   "id": "435521f3",
   "metadata": {},
   "outputs": [],
   "source": [
    "p2.set_cost(1000)"
   ]
  },
  {
   "cell_type": "code",
   "execution_count": 28,
   "id": "e4249802",
   "metadata": {},
   "outputs": [
    {
     "data": {
      "text/plain": [
       "'red'"
      ]
     },
     "execution_count": 28,
     "metadata": {},
     "output_type": "execute_result"
    }
   ],
   "source": [
    "p2.show_color()"
   ]
  },
  {
   "cell_type": "code",
   "execution_count": 29,
   "id": "16f8ef67",
   "metadata": {},
   "outputs": [
    {
     "data": {
      "text/plain": [
       "1000"
      ]
     },
     "execution_count": 29,
     "metadata": {},
     "output_type": "execute_result"
    }
   ],
   "source": [
    "p2.show_cost()"
   ]
  },
  {
   "cell_type": "code",
   "execution_count": 42,
   "id": "b22ae516",
   "metadata": {},
   "outputs": [],
   "source": [
    "class Employee:\n",
    "    def __init__ (self,name,age,salary,gender):\n",
    "        self.name= name\n",
    "        self.age= age\n",
    "        self.salary= salary\n",
    "        self.gender= gender\n",
    "\n",
    "    def show_details(self):\n",
    "        print(\"The name of Employee is \",self.name)\n",
    "        print(\"Age is \",self.age)\n",
    "        print(\"Salary is \",self.salary)\n",
    "        print(\"Gender is \",self.gender)"
   ]
  },
  {
   "cell_type": "code",
   "execution_count": 43,
   "id": "95c0b095",
   "metadata": {},
   "outputs": [],
   "source": [
    "e1= Employee('Roy',32,30000,'Male')"
   ]
  },
  {
   "cell_type": "code",
   "execution_count": 44,
   "id": "cc9da11f",
   "metadata": {},
   "outputs": [
    {
     "name": "stdout",
     "output_type": "stream",
     "text": [
      "The name of Employee is  Roy\n",
      "Age is  32\n",
      "Salary is  30000\n",
      "Gender is  Male\n"
     ]
    }
   ],
   "source": [
    "e1.show_details()"
   ]
  },
  {
   "cell_type": "code",
   "execution_count": 45,
   "id": "963a40c5",
   "metadata": {},
   "outputs": [],
   "source": [
    "#inheritence"
   ]
  },
  {
   "cell_type": "code",
   "execution_count": 54,
   "id": "3e440e52",
   "metadata": {},
   "outputs": [],
   "source": [
    "class vehicle:\n",
    "    def __init__(self,mileage,cost):\n",
    "        self.mileage=mileage\n",
    "        self.cost=cost\n",
    "    def show_details(self):\n",
    "        print(\"The mileage of the car is \",self.mileage)\n",
    "        print(\"The cost of the car is \",self.cost)\n",
    "        \n",
    "    "
   ]
  },
  {
   "cell_type": "code",
   "execution_count": 76,
   "id": "1d21a0a3",
   "metadata": {},
   "outputs": [],
   "source": [
    "v1=vehicle(30,6000)"
   ]
  },
  {
   "cell_type": "code",
   "execution_count": 56,
   "id": "d411a0b2",
   "metadata": {},
   "outputs": [
    {
     "name": "stdout",
     "output_type": "stream",
     "text": [
      "The mileage of the car is  30\n",
      "The cost of the car is  6000\n"
     ]
    }
   ],
   "source": [
    "v1.show_details()"
   ]
  },
  {
   "cell_type": "code",
   "execution_count": 58,
   "id": "093ae6b9",
   "metadata": {},
   "outputs": [],
   "source": [
    "class car(vehicle):\n",
    "    def show_car_details(self):\n",
    "        print(\"I am the car\")"
   ]
  },
  {
   "cell_type": "code",
   "execution_count": 59,
   "id": "9e64c9fa",
   "metadata": {},
   "outputs": [],
   "source": [
    "c1= car(50,4000)"
   ]
  },
  {
   "cell_type": "code",
   "execution_count": 60,
   "id": "770855d6",
   "metadata": {},
   "outputs": [
    {
     "name": "stdout",
     "output_type": "stream",
     "text": [
      "I am the car\n"
     ]
    }
   ],
   "source": [
    "c1.show_car_details()"
   ]
  },
  {
   "cell_type": "code",
   "execution_count": 61,
   "id": "cb175939",
   "metadata": {},
   "outputs": [
    {
     "name": "stdout",
     "output_type": "stream",
     "text": [
      "The mileage of the car is  50\n",
      "The cost of the car is  4000\n"
     ]
    }
   ],
   "source": [
    "c1.show_details()"
   ]
  },
  {
   "cell_type": "code",
   "execution_count": 82,
   "id": "a95e35f0",
   "metadata": {},
   "outputs": [],
   "source": [
    "class car(vehicle):\n",
    "    def __init__(self,mileage,cost,hp,tyres): \n",
    "        super().__init__(mileage,cost)\n",
    "        self.hp=hp\n",
    "        self.tyres=tyres\n",
    "        \n",
    "    def show_car_details(self):\n",
    "        print(\"no of hp\",self.hp)\n",
    "        print(\"no of tyres\",self.tyres)\n",
    "        "
   ]
  },
  {
   "cell_type": "code",
   "execution_count": 84,
   "id": "90d98b9b",
   "metadata": {},
   "outputs": [],
   "source": [
    "c2=car(40,5000,15,5)"
   ]
  },
  {
   "cell_type": "code",
   "execution_count": 89,
   "id": "3bdd923d",
   "metadata": {},
   "outputs": [
    {
     "name": "stdout",
     "output_type": "stream",
     "text": [
      "The mileage of the car is  40\n",
      "The cost of the car is  5000\n"
     ]
    }
   ],
   "source": [
    "c2.show_details()"
   ]
  },
  {
   "cell_type": "code",
   "execution_count": 87,
   "id": "ae773cf9",
   "metadata": {},
   "outputs": [
    {
     "name": "stdout",
     "output_type": "stream",
     "text": [
      "no of hp 15\n",
      "no of tyres 5\n"
     ]
    }
   ],
   "source": [
    "c2.show_car_details()"
   ]
  },
  {
   "cell_type": "code",
   "execution_count": 90,
   "id": "48f2404c",
   "metadata": {},
   "outputs": [],
   "source": [
    "#multiple_inheritence"
   ]
  },
  {
   "cell_type": "code",
   "execution_count": 103,
   "id": "d7920cda",
   "metadata": {},
   "outputs": [],
   "source": [
    "class p1:\n",
    "    def assgn1(self,str1):\n",
    "        self.str1=str1\n",
    "        \n",
    "    def show_str1(self):\n",
    "        print (self.str1)"
   ]
  },
  {
   "cell_type": "code",
   "execution_count": 104,
   "id": "b8acf107",
   "metadata": {},
   "outputs": [],
   "source": [
    "class p2:\n",
    "    def assgn2(self,str2):\n",
    "        self.str2=str2\n",
    "    def show_str2(self):\n",
    "        print (self.str2)\n",
    "    "
   ]
  },
  {
   "cell_type": "code",
   "execution_count": 105,
   "id": "752d6605",
   "metadata": {},
   "outputs": [],
   "source": [
    "class child(p1,p2):\n",
    "    def assgn3(self,str3):\n",
    "        self.str3=str3\n",
    "    def show_str3(self):\n",
    "        print(self.str3)"
   ]
  },
  {
   "cell_type": "code",
   "execution_count": 106,
   "id": "93e93704",
   "metadata": {},
   "outputs": [],
   "source": [
    "c10=child()"
   ]
  },
  {
   "cell_type": "code",
   "execution_count": 107,
   "id": "7191981e",
   "metadata": {},
   "outputs": [],
   "source": [
    "c10.assgn1(\"sparta\")\n",
    "c10.assgn2(\"Joy\")\n",
    "c10.assgn3(\"Super\")"
   ]
  },
  {
   "cell_type": "code",
   "execution_count": 108,
   "id": "da932b79",
   "metadata": {},
   "outputs": [
    {
     "name": "stdout",
     "output_type": "stream",
     "text": [
      "sparta\n"
     ]
    }
   ],
   "source": [
    "c10.show_str1()"
   ]
  },
  {
   "cell_type": "code",
   "execution_count": 109,
   "id": "c85daab8",
   "metadata": {},
   "outputs": [
    {
     "name": "stdout",
     "output_type": "stream",
     "text": [
      "Joy\n"
     ]
    }
   ],
   "source": [
    "c10.show_str2()"
   ]
  },
  {
   "cell_type": "code",
   "execution_count": 110,
   "id": "c163101a",
   "metadata": {},
   "outputs": [
    {
     "name": "stdout",
     "output_type": "stream",
     "text": [
      "Super\n"
     ]
    }
   ],
   "source": [
    "c10.show_str3()"
   ]
  },
  {
   "cell_type": "code",
   "execution_count": 111,
   "id": "0d17f129",
   "metadata": {},
   "outputs": [],
   "source": [
    "#multilevelclass"
   ]
  },
  {
   "cell_type": "code",
   "execution_count": 114,
   "id": "dd60a419",
   "metadata": {},
   "outputs": [],
   "source": [
    "class parent:\n",
    "    def assgn_name(self,name):\n",
    "        self.name=name\n",
    "    def show_name(self):\n",
    "        return self.name"
   ]
  },
  {
   "cell_type": "code",
   "execution_count": 115,
   "id": "4d854883",
   "metadata": {},
   "outputs": [],
   "source": [
    "class child:\n",
    "    def assgn_age(self,age):\n",
    "        self.age=age\n",
    "    def show_age(self):\n",
    "        return self.age"
   ]
  },
  {
   "cell_type": "code",
   "execution_count": 122,
   "id": "86c63b10",
   "metadata": {},
   "outputs": [],
   "source": [
    "class grandchild(parent,child):\n",
    "    def assgn_gender(self,gender):\n",
    "        self.gender=gender\n",
    "    def show_gender(self):\n",
    "        return self.gender"
   ]
  },
  {
   "cell_type": "code",
   "execution_count": 123,
   "id": "9959f9fb",
   "metadata": {},
   "outputs": [],
   "source": [
    "g1= grandchild()"
   ]
  },
  {
   "cell_type": "code",
   "execution_count": 124,
   "id": "801f186a",
   "metadata": {},
   "outputs": [],
   "source": [
    "g1.assgn_name(\"Troy\")\n",
    "g1.assgn_age(15)\n",
    "g1.assgn_gender(\"Male\")"
   ]
  },
  {
   "cell_type": "code",
   "execution_count": 125,
   "id": "efaa7d60",
   "metadata": {},
   "outputs": [
    {
     "data": {
      "text/plain": [
       "'Troy'"
      ]
     },
     "execution_count": 125,
     "metadata": {},
     "output_type": "execute_result"
    }
   ],
   "source": [
    "g1.show_name()"
   ]
  },
  {
   "cell_type": "code",
   "execution_count": 126,
   "id": "09c3ac84",
   "metadata": {},
   "outputs": [
    {
     "data": {
      "text/plain": [
       "15"
      ]
     },
     "execution_count": 126,
     "metadata": {},
     "output_type": "execute_result"
    }
   ],
   "source": [
    "g1.show_age()"
   ]
  },
  {
   "cell_type": "code",
   "execution_count": 127,
   "id": "270a59af",
   "metadata": {},
   "outputs": [
    {
     "data": {
      "text/plain": [
       "'Male'"
      ]
     },
     "execution_count": 127,
     "metadata": {},
     "output_type": "execute_result"
    }
   ],
   "source": [
    "g1.show_gender()"
   ]
  },
  {
   "cell_type": "code",
   "execution_count": null,
   "id": "51c4ffc9",
   "metadata": {},
   "outputs": [],
   "source": []
  }
 ],
 "metadata": {
  "kernelspec": {
   "display_name": "Python 3",
   "language": "python",
   "name": "python3"
  },
  "language_info": {
   "codemirror_mode": {
    "name": "ipython",
    "version": 3
   },
   "file_extension": ".py",
   "mimetype": "text/x-python",
   "name": "python",
   "nbconvert_exporter": "python",
   "pygments_lexer": "ipython3",
   "version": "3.8.8"
  }
 },
 "nbformat": 4,
 "nbformat_minor": 5
}
