{
 "cells": [
  {
   "cell_type": "code",
   "execution_count": 1,
   "id": "a5891b20",
   "metadata": {},
   "outputs": [],
   "source": [
    "import pandas as pd"
   ]
  },
  {
   "cell_type": "code",
   "execution_count": 13,
   "id": "6853d92e",
   "metadata": {},
   "outputs": [],
   "source": [
    "lr= pd.read_csv(\n",
    "    \"https://archive.ics.uci.edu/ml/machine-learning-databases/letter-recognition/letter-recognition.data\",\n",
    "    names=\n",
    "        ['lettr_capital_letter','x-box_horizontal_position_of_box','y-box vertical position of box', \n",
    "'width width of box','high height of box' 'onpix total # on pixels','x-bar mean x of on pixels in box', 'y-bar mean y of on pixels in box','x2bar mean x variance','y2bar mean y variance','xybar mean x y correlation','x2ybr mean of x * x * y', 'xy2br mean of x * y * y','x-ege mean edge count left to right','xegvy correlation of x-ege with y','y-ege mean edge count bottom to top', 'yegvx correlation of y-ege with x'])"
   ]
  },
  {
   "cell_type": "code",
   "execution_count": 15,
   "id": "5e085278",
   "metadata": {},
   "outputs": [
    {
     "data": {
      "text/html": [
       "<div>\n",
       "<style scoped>\n",
       "    .dataframe tbody tr th:only-of-type {\n",
       "        vertical-align: middle;\n",
       "    }\n",
       "\n",
       "    .dataframe tbody tr th {\n",
       "        vertical-align: top;\n",
       "    }\n",
       "\n",
       "    .dataframe thead th {\n",
       "        text-align: right;\n",
       "    }\n",
       "</style>\n",
       "<table border=\"1\" class=\"dataframe\">\n",
       "  <thead>\n",
       "    <tr style=\"text-align: right;\">\n",
       "      <th></th>\n",
       "      <th>lettr_capital_letter</th>\n",
       "      <th>x-box_horizontal_position_of_box</th>\n",
       "      <th>y-box vertical position of box</th>\n",
       "      <th>width width of box</th>\n",
       "      <th>high height of boxonpix total # on pixels</th>\n",
       "      <th>x-bar mean x of on pixels in box</th>\n",
       "      <th>y-bar mean y of on pixels in box</th>\n",
       "      <th>x2bar mean x variance</th>\n",
       "      <th>y2bar mean y variance</th>\n",
       "      <th>xybar mean x y correlation</th>\n",
       "      <th>x2ybr mean of x * x * y</th>\n",
       "      <th>xy2br mean of x * y * y</th>\n",
       "      <th>x-ege mean edge count left to right</th>\n",
       "      <th>xegvy correlation of x-ege with y</th>\n",
       "      <th>y-ege mean edge count bottom to top</th>\n",
       "      <th>yegvx correlation of y-ege with x</th>\n",
       "    </tr>\n",
       "  </thead>\n",
       "  <tbody>\n",
       "    <tr>\n",
       "      <th>T</th>\n",
       "      <td>2</td>\n",
       "      <td>8</td>\n",
       "      <td>3</td>\n",
       "      <td>5</td>\n",
       "      <td>1</td>\n",
       "      <td>8</td>\n",
       "      <td>13</td>\n",
       "      <td>0</td>\n",
       "      <td>6</td>\n",
       "      <td>6</td>\n",
       "      <td>10</td>\n",
       "      <td>8</td>\n",
       "      <td>0</td>\n",
       "      <td>8</td>\n",
       "      <td>0</td>\n",
       "      <td>8</td>\n",
       "    </tr>\n",
       "    <tr>\n",
       "      <th>I</th>\n",
       "      <td>5</td>\n",
       "      <td>12</td>\n",
       "      <td>3</td>\n",
       "      <td>7</td>\n",
       "      <td>2</td>\n",
       "      <td>10</td>\n",
       "      <td>5</td>\n",
       "      <td>5</td>\n",
       "      <td>4</td>\n",
       "      <td>13</td>\n",
       "      <td>3</td>\n",
       "      <td>9</td>\n",
       "      <td>2</td>\n",
       "      <td>8</td>\n",
       "      <td>4</td>\n",
       "      <td>10</td>\n",
       "    </tr>\n",
       "    <tr>\n",
       "      <th>D</th>\n",
       "      <td>4</td>\n",
       "      <td>11</td>\n",
       "      <td>6</td>\n",
       "      <td>8</td>\n",
       "      <td>6</td>\n",
       "      <td>10</td>\n",
       "      <td>6</td>\n",
       "      <td>2</td>\n",
       "      <td>6</td>\n",
       "      <td>10</td>\n",
       "      <td>3</td>\n",
       "      <td>7</td>\n",
       "      <td>3</td>\n",
       "      <td>7</td>\n",
       "      <td>3</td>\n",
       "      <td>9</td>\n",
       "    </tr>\n",
       "    <tr>\n",
       "      <th>N</th>\n",
       "      <td>7</td>\n",
       "      <td>11</td>\n",
       "      <td>6</td>\n",
       "      <td>6</td>\n",
       "      <td>3</td>\n",
       "      <td>5</td>\n",
       "      <td>9</td>\n",
       "      <td>4</td>\n",
       "      <td>6</td>\n",
       "      <td>4</td>\n",
       "      <td>4</td>\n",
       "      <td>10</td>\n",
       "      <td>6</td>\n",
       "      <td>10</td>\n",
       "      <td>2</td>\n",
       "      <td>8</td>\n",
       "    </tr>\n",
       "    <tr>\n",
       "      <th>G</th>\n",
       "      <td>2</td>\n",
       "      <td>1</td>\n",
       "      <td>3</td>\n",
       "      <td>1</td>\n",
       "      <td>1</td>\n",
       "      <td>8</td>\n",
       "      <td>6</td>\n",
       "      <td>6</td>\n",
       "      <td>6</td>\n",
       "      <td>6</td>\n",
       "      <td>5</td>\n",
       "      <td>9</td>\n",
       "      <td>1</td>\n",
       "      <td>7</td>\n",
       "      <td>5</td>\n",
       "      <td>10</td>\n",
       "    </tr>\n",
       "  </tbody>\n",
       "</table>\n",
       "</div>"
      ],
      "text/plain": [
       "   lettr_capital_letter  x-box_horizontal_position_of_box  \\\n",
       "T                     2                                 8   \n",
       "I                     5                                12   \n",
       "D                     4                                11   \n",
       "N                     7                                11   \n",
       "G                     2                                 1   \n",
       "\n",
       "   y-box vertical position of box  width width of box  \\\n",
       "T                               3                   5   \n",
       "I                               3                   7   \n",
       "D                               6                   8   \n",
       "N                               6                   6   \n",
       "G                               3                   1   \n",
       "\n",
       "   high height of boxonpix total # on pixels  \\\n",
       "T                                          1   \n",
       "I                                          2   \n",
       "D                                          6   \n",
       "N                                          3   \n",
       "G                                          1   \n",
       "\n",
       "   x-bar mean x of on pixels in box  y-bar mean y of on pixels in box  \\\n",
       "T                                 8                                13   \n",
       "I                                10                                 5   \n",
       "D                                10                                 6   \n",
       "N                                 5                                 9   \n",
       "G                                 8                                 6   \n",
       "\n",
       "   x2bar mean x variance  y2bar mean y variance  xybar mean x y correlation  \\\n",
       "T                      0                      6                           6   \n",
       "I                      5                      4                          13   \n",
       "D                      2                      6                          10   \n",
       "N                      4                      6                           4   \n",
       "G                      6                      6                           6   \n",
       "\n",
       "   x2ybr mean of x * x * y  xy2br mean of x * y * y  \\\n",
       "T                       10                        8   \n",
       "I                        3                        9   \n",
       "D                        3                        7   \n",
       "N                        4                       10   \n",
       "G                        5                        9   \n",
       "\n",
       "   x-ege mean edge count left to right  xegvy correlation of x-ege with y  \\\n",
       "T                                    0                                  8   \n",
       "I                                    2                                  8   \n",
       "D                                    3                                  7   \n",
       "N                                    6                                 10   \n",
       "G                                    1                                  7   \n",
       "\n",
       "   y-ege mean edge count bottom to top  yegvx correlation of y-ege with x  \n",
       "T                                    0                                  8  \n",
       "I                                    4                                 10  \n",
       "D                                    3                                  9  \n",
       "N                                    2                                  8  \n",
       "G                                    5                                 10  "
      ]
     },
     "execution_count": 15,
     "metadata": {},
     "output_type": "execute_result"
    }
   ],
   "source": [
    "lr.head()"
   ]
  },
  {
   "cell_type": "code",
   "execution_count": 16,
   "id": "0d51ab4e",
   "metadata": {},
   "outputs": [],
   "source": [
    "from sklearn.ensemble import GradientBoostingClassifier"
   ]
  },
  {
   "cell_type": "code",
   "execution_count": 17,
   "id": "5ca7c7f6",
   "metadata": {},
   "outputs": [],
   "source": [
    "x= lr.drop(columns=\"lettr_capital_letter\")\n",
    "y= lr.lettr_capital_letter"
   ]
  },
  {
   "cell_type": "code",
   "execution_count": 18,
   "id": "fa5dea8c",
   "metadata": {},
   "outputs": [],
   "source": [
    "from sklearn.model_selection import train_test_split"
   ]
  },
  {
   "cell_type": "code",
   "execution_count": 19,
   "id": "b28e2498",
   "metadata": {},
   "outputs": [],
   "source": [
    "x_train, x_test, y_train, y_test= train_test_split(x, y, test_size=0.3, random_state=123)"
   ]
  },
  {
   "cell_type": "code",
   "execution_count": 20,
   "id": "20d8f00e",
   "metadata": {},
   "outputs": [],
   "source": [
    "gre= GradientBoostingClassifier()"
   ]
  },
  {
   "cell_type": "code",
   "execution_count": 21,
   "id": "86d97029",
   "metadata": {},
   "outputs": [],
   "source": [
    "gre_model = gre.fit(x_train,y_train)"
   ]
  },
  {
   "cell_type": "code",
   "execution_count": 22,
   "id": "28bea1cb",
   "metadata": {},
   "outputs": [
    {
     "data": {
      "text/plain": [
       "array([0.12241424, 0.58893724, 0.05787444, 0.04094449, 0.02824172,\n",
       "       0.00397656, 0.04919043, 0.00776207, 0.01902207, 0.01538114,\n",
       "       0.02412585, 0.01154749, 0.01117397, 0.00736938, 0.01203891])"
      ]
     },
     "execution_count": 22,
     "metadata": {},
     "output_type": "execute_result"
    }
   ],
   "source": [
    "gre_model.feature_importances_"
   ]
  },
  {
   "cell_type": "code",
   "execution_count": 23,
   "id": "fe4aa83d",
   "metadata": {},
   "outputs": [],
   "source": [
    "y_pred = gre_model.predict(x_test)"
   ]
  },
  {
   "cell_type": "code",
   "execution_count": 24,
   "id": "37d2c182",
   "metadata": {},
   "outputs": [],
   "source": [
    "from sklearn import metrics"
   ]
  },
  {
   "cell_type": "code",
   "execution_count": 25,
   "id": "652eef7f",
   "metadata": {},
   "outputs": [
    {
     "name": "stdout",
     "output_type": "stream",
     "text": [
      "Accuracy: 0.6958333333333333\n"
     ]
    }
   ],
   "source": [
    "print (\"Accuracy:\",metrics.accuracy_score(y_test,y_pred))"
   ]
  },
  {
   "cell_type": "code",
   "execution_count": 26,
   "id": "e69aac31",
   "metadata": {},
   "outputs": [
    {
     "data": {
      "text/plain": [
       "array([[ 25,   6,   0,   0,   0,   0,   0,   0,   0,   0,   0,   0,   0,\n",
       "          0,   0,   0],\n",
       "       [ 13, 301,  71,   0,   0,   0,   0,   0,   0,   0,   0,   0,   0,\n",
       "          0,   0,   0],\n",
       "       [  0,  43, 744,  87,   2,   0,   0,   0,   0,   0,   0,   0,   0,\n",
       "          0,   0,   0],\n",
       "       [  0,   0,  69, 967, 224,   1,   0,   0,   0,   0,   0,   0,   0,\n",
       "          0,   0,   0],\n",
       "       [  0,   0,   6, 214, 988, 115,   3,   0,   0,   0,   0,   0,   0,\n",
       "          0,   0,   0],\n",
       "       [  0,   0,   1,  20, 243, 551,  91,   8,   3,   0,   0,   0,   0,\n",
       "          0,   0,   0],\n",
       "       [  0,   0,   0,  10,  35, 147, 337,  49,   4,   0,   0,   0,   0,\n",
       "          0,   0,   0],\n",
       "       [  0,   0,   0,   0,   9,  36,  86, 154,  24,   2,   5,   1,   0,\n",
       "          0,   0,   0],\n",
       "       [  0,   0,   0,   0,   0,   4,  33,  33,  53,  22,   6,   3,   2,\n",
       "          0,   0,   0],\n",
       "       [  0,   0,   0,   0,   0,   1,   7,  14,  17,  33,  11,   1,   2,\n",
       "          0,   0,   0],\n",
       "       [  0,   0,   0,   0,   0,   0,   0,   3,   3,  14,  13,   5,   0,\n",
       "          0,   0,   0],\n",
       "       [  0,   0,   0,   0,   0,   0,   0,   0,   0,   4,   8,   5,   1,\n",
       "          0,   0,   0],\n",
       "       [  0,   0,   0,   0,   0,   0,   0,   0,   0,   0,   2,   0,   2,\n",
       "          0,   0,   0],\n",
       "       [  0,   0,   0,   0,   0,   0,   0,   0,   0,   0,   1,   0,   0,\n",
       "          0,   0,   0],\n",
       "       [  0,   0,   0,   0,   0,   0,   0,   0,   0,   0,   0,   0,   0,\n",
       "          0,   1,   0],\n",
       "       [  0,   0,   0,   0,   0,   0,   0,   0,   0,   0,   0,   0,   0,\n",
       "          0,   0,   1]], dtype=int64)"
      ]
     },
     "execution_count": 26,
     "metadata": {},
     "output_type": "execute_result"
    }
   ],
   "source": [
    "metrics.confusion_matrix(y_test,y_pred)"
   ]
  },
  {
   "cell_type": "code",
   "execution_count": null,
   "id": "12aef0af",
   "metadata": {},
   "outputs": [],
   "source": []
  }
 ],
 "metadata": {
  "kernelspec": {
   "display_name": "Python 3",
   "language": "python",
   "name": "python3"
  },
  "language_info": {
   "codemirror_mode": {
    "name": "ipython",
    "version": 3
   },
   "file_extension": ".py",
   "mimetype": "text/x-python",
   "name": "python",
   "nbconvert_exporter": "python",
   "pygments_lexer": "ipython3",
   "version": "3.8.8"
  }
 },
 "nbformat": 4,
 "nbformat_minor": 5
}
